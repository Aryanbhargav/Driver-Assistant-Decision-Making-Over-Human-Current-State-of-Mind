{
  "cells": [
    {
      "cell_type": "code",
      "execution_count": 1,
      "id": "56723004",
      "metadata": {
        "_cell_guid": "b1076dfc-b9ad-4769-8c92-a6c4dae69d19",
        "_uuid": "8f2839f25d086af736a60e9eeb907d3b93b6e0e5",
        "execution": {
          "iopub.execute_input": "2023-03-14T23:52:33.979161Z",
          "iopub.status.busy": "2023-03-14T23:52:33.978507Z",
          "iopub.status.idle": "2023-03-14T23:52:33.994516Z",
          "shell.execute_reply": "2023-03-14T23:52:33.993514Z"
        },
        "papermill": {
          "duration": 0.029327,
          "end_time": "2023-03-14T23:52:33.997582",
          "exception": false,
          "start_time": "2023-03-14T23:52:33.968255",
          "status": "completed"
        },
        "tags": [],
        "id": "56723004"
      },
      "outputs": [],
      "source": [
        "import numpy as np # linear algebra\n",
        "import pandas as pd # data processing, CSV file I/O (e.g. pd.read_csv)\n",
        "import os"
      ]
    },
    {
      "cell_type": "code",
      "source": [
        "from google.colab import drive\n",
        "drive.mount('/content/drive')"
      ],
      "metadata": {
        "colab": {
          "base_uri": "https://localhost:8080/"
        },
        "id": "643_x6xKpf5c",
        "outputId": "a77d6a08-78b4-43c1-c1c5-2fcce1025b97"
      },
      "id": "643_x6xKpf5c",
      "execution_count": 2,
      "outputs": [
        {
          "output_type": "stream",
          "name": "stdout",
          "text": [
            "Mounted at /content/drive\n"
          ]
        }
      ]
    },
    {
      "cell_type": "code",
      "source": [
        "path  = 'drive/My Drive/textSocial/'"
      ],
      "metadata": {
        "id": "1rjvYiVDpyFR"
      },
      "id": "1rjvYiVDpyFR",
      "execution_count": 3,
      "outputs": []
    },
    {
      "cell_type": "code",
      "execution_count": 4,
      "id": "cd63da89",
      "metadata": {
        "execution": {
          "iopub.execute_input": "2023-03-14T23:52:34.015097Z",
          "iopub.status.busy": "2023-03-14T23:52:34.014136Z",
          "iopub.status.idle": "2023-03-14T23:52:36.271379Z",
          "shell.execute_reply": "2023-03-14T23:52:36.269748Z"
        },
        "papermill": {
          "duration": 2.269286,
          "end_time": "2023-03-14T23:52:36.274491",
          "exception": false,
          "start_time": "2023-03-14T23:52:34.005205",
          "status": "completed"
        },
        "tags": [],
        "id": "cd63da89"
      },
      "outputs": [],
      "source": [
        "# utilities\n",
        "import re\n",
        "import pickle\n",
        "import numpy as np\n",
        "import pandas as pd\n",
        "\n",
        "# plotting\n",
        "import seaborn as sns\n",
        "from wordcloud import WordCloud\n",
        "import matplotlib.pyplot as plt\n",
        "\n",
        "# nltk\n",
        "from nltk.stem import WordNetLemmatizer\n",
        "\n",
        "# sklearn\n",
        "from sklearn.svm import LinearSVC\n",
        "from sklearn.naive_bayes import BernoulliNB\n",
        "from sklearn.linear_model import LogisticRegression\n",
        "\n",
        "from sklearn.model_selection import train_test_split\n",
        "from sklearn.feature_extraction.text import TfidfVectorizer\n",
        "from sklearn.metrics import confusion_matrix, classification_report"
      ]
    },
    {
      "cell_type": "code",
      "execution_count": 5,
      "id": "9de34671",
      "metadata": {
        "execution": {
          "iopub.execute_input": "2023-03-14T23:52:36.291097Z",
          "iopub.status.busy": "2023-03-14T23:52:36.290702Z",
          "iopub.status.idle": "2023-03-14T23:52:43.701159Z",
          "shell.execute_reply": "2023-03-14T23:52:43.699719Z"
        },
        "papermill": {
          "duration": 7.422307,
          "end_time": "2023-03-14T23:52:43.704132",
          "exception": false,
          "start_time": "2023-03-14T23:52:36.281825",
          "status": "completed"
        },
        "tags": [],
        "id": "9de34671"
      },
      "outputs": [],
      "source": [
        "# Importing the dataset\n",
        "DATASET_COLUMNS  = [\"sentiment\", \"ids\", \"date\", \"flag\", \"user\", \"text\"]\n",
        "DATASET_ENCODING = \"ISO-8859-1\"\n",
        "dataset = pd.read_csv(path+'training.1600000.processed.noemoticon.csv',\n",
        "                      encoding=DATASET_ENCODING , names=DATASET_COLUMNS)"
      ]
    },
    {
      "cell_type": "code",
      "execution_count": 7,
      "id": "2d7a3ffe",
      "metadata": {
        "execution": {
          "iopub.execute_input": "2023-03-14T23:52:43.720190Z",
          "iopub.status.busy": "2023-03-14T23:52:43.719761Z",
          "iopub.status.idle": "2023-03-14T23:52:43.751283Z",
          "shell.execute_reply": "2023-03-14T23:52:43.749818Z"
        },
        "papermill": {
          "duration": 0.042827,
          "end_time": "2023-03-14T23:52:43.754115",
          "exception": false,
          "start_time": "2023-03-14T23:52:43.711288",
          "status": "completed"
        },
        "tags": [],
        "id": "2d7a3ffe",
        "outputId": "68aa97c6-9d68-4d24-9b63-b94c4bfec004",
        "colab": {
          "base_uri": "https://localhost:8080/",
          "height": 206
        }
      },
      "outputs": [
        {
          "output_type": "execute_result",
          "data": {
            "text/plain": [
              "   sentiment                                               text\n",
              "0          0  @switchfoot http://twitpic.com/2y1zl - Awww, t...\n",
              "1          0  is upset that he can't update his Facebook by ...\n",
              "2          0  @Kenichan I dived many times for the ball. Man...\n",
              "3          0    my whole body feels itchy and like its on fire \n",
              "4          0  @nationwideclass no, it's not behaving at all...."
            ],
            "text/html": [
              "\n",
              "  <div id=\"df-3f827d9d-14f5-4ed2-a208-3a94f71f49ac\">\n",
              "    <div class=\"colab-df-container\">\n",
              "      <div>\n",
              "<style scoped>\n",
              "    .dataframe tbody tr th:only-of-type {\n",
              "        vertical-align: middle;\n",
              "    }\n",
              "\n",
              "    .dataframe tbody tr th {\n",
              "        vertical-align: top;\n",
              "    }\n",
              "\n",
              "    .dataframe thead th {\n",
              "        text-align: right;\n",
              "    }\n",
              "</style>\n",
              "<table border=\"1\" class=\"dataframe\">\n",
              "  <thead>\n",
              "    <tr style=\"text-align: right;\">\n",
              "      <th></th>\n",
              "      <th>sentiment</th>\n",
              "      <th>text</th>\n",
              "    </tr>\n",
              "  </thead>\n",
              "  <tbody>\n",
              "    <tr>\n",
              "      <th>0</th>\n",
              "      <td>0</td>\n",
              "      <td>@switchfoot http://twitpic.com/2y1zl - Awww, t...</td>\n",
              "    </tr>\n",
              "    <tr>\n",
              "      <th>1</th>\n",
              "      <td>0</td>\n",
              "      <td>is upset that he can't update his Facebook by ...</td>\n",
              "    </tr>\n",
              "    <tr>\n",
              "      <th>2</th>\n",
              "      <td>0</td>\n",
              "      <td>@Kenichan I dived many times for the ball. Man...</td>\n",
              "    </tr>\n",
              "    <tr>\n",
              "      <th>3</th>\n",
              "      <td>0</td>\n",
              "      <td>my whole body feels itchy and like its on fire</td>\n",
              "    </tr>\n",
              "    <tr>\n",
              "      <th>4</th>\n",
              "      <td>0</td>\n",
              "      <td>@nationwideclass no, it's not behaving at all....</td>\n",
              "    </tr>\n",
              "  </tbody>\n",
              "</table>\n",
              "</div>\n",
              "      <button class=\"colab-df-convert\" onclick=\"convertToInteractive('df-3f827d9d-14f5-4ed2-a208-3a94f71f49ac')\"\n",
              "              title=\"Convert this dataframe to an interactive table.\"\n",
              "              style=\"display:none;\">\n",
              "        \n",
              "  <svg xmlns=\"http://www.w3.org/2000/svg\" height=\"24px\"viewBox=\"0 0 24 24\"\n",
              "       width=\"24px\">\n",
              "    <path d=\"M0 0h24v24H0V0z\" fill=\"none\"/>\n",
              "    <path d=\"M18.56 5.44l.94 2.06.94-2.06 2.06-.94-2.06-.94-.94-2.06-.94 2.06-2.06.94zm-11 1L8.5 8.5l.94-2.06 2.06-.94-2.06-.94L8.5 2.5l-.94 2.06-2.06.94zm10 10l.94 2.06.94-2.06 2.06-.94-2.06-.94-.94-2.06-.94 2.06-2.06.94z\"/><path d=\"M17.41 7.96l-1.37-1.37c-.4-.4-.92-.59-1.43-.59-.52 0-1.04.2-1.43.59L10.3 9.45l-7.72 7.72c-.78.78-.78 2.05 0 2.83L4 21.41c.39.39.9.59 1.41.59.51 0 1.02-.2 1.41-.59l7.78-7.78 2.81-2.81c.8-.78.8-2.07 0-2.86zM5.41 20L4 18.59l7.72-7.72 1.47 1.35L5.41 20z\"/>\n",
              "  </svg>\n",
              "      </button>\n",
              "      \n",
              "  <style>\n",
              "    .colab-df-container {\n",
              "      display:flex;\n",
              "      flex-wrap:wrap;\n",
              "      gap: 12px;\n",
              "    }\n",
              "\n",
              "    .colab-df-convert {\n",
              "      background-color: #E8F0FE;\n",
              "      border: none;\n",
              "      border-radius: 50%;\n",
              "      cursor: pointer;\n",
              "      display: none;\n",
              "      fill: #1967D2;\n",
              "      height: 32px;\n",
              "      padding: 0 0 0 0;\n",
              "      width: 32px;\n",
              "    }\n",
              "\n",
              "    .colab-df-convert:hover {\n",
              "      background-color: #E2EBFA;\n",
              "      box-shadow: 0px 1px 2px rgba(60, 64, 67, 0.3), 0px 1px 3px 1px rgba(60, 64, 67, 0.15);\n",
              "      fill: #174EA6;\n",
              "    }\n",
              "\n",
              "    [theme=dark] .colab-df-convert {\n",
              "      background-color: #3B4455;\n",
              "      fill: #D2E3FC;\n",
              "    }\n",
              "\n",
              "    [theme=dark] .colab-df-convert:hover {\n",
              "      background-color: #434B5C;\n",
              "      box-shadow: 0px 1px 3px 1px rgba(0, 0, 0, 0.15);\n",
              "      filter: drop-shadow(0px 1px 2px rgba(0, 0, 0, 0.3));\n",
              "      fill: #FFFFFF;\n",
              "    }\n",
              "  </style>\n",
              "\n",
              "      <script>\n",
              "        const buttonEl =\n",
              "          document.querySelector('#df-3f827d9d-14f5-4ed2-a208-3a94f71f49ac button.colab-df-convert');\n",
              "        buttonEl.style.display =\n",
              "          google.colab.kernel.accessAllowed ? 'block' : 'none';\n",
              "\n",
              "        async function convertToInteractive(key) {\n",
              "          const element = document.querySelector('#df-3f827d9d-14f5-4ed2-a208-3a94f71f49ac');\n",
              "          const dataTable =\n",
              "            await google.colab.kernel.invokeFunction('convertToInteractive',\n",
              "                                                     [key], {});\n",
              "          if (!dataTable) return;\n",
              "\n",
              "          const docLinkHtml = 'Like what you see? Visit the ' +\n",
              "            '<a target=\"_blank\" href=https://colab.research.google.com/notebooks/data_table.ipynb>data table notebook</a>'\n",
              "            + ' to learn more about interactive tables.';\n",
              "          element.innerHTML = '';\n",
              "          dataTable['output_type'] = 'display_data';\n",
              "          await google.colab.output.renderOutput(dataTable, element);\n",
              "          const docLink = document.createElement('div');\n",
              "          docLink.innerHTML = docLinkHtml;\n",
              "          element.appendChild(docLink);\n",
              "        }\n",
              "      </script>\n",
              "    </div>\n",
              "  </div>\n",
              "  "
            ]
          },
          "metadata": {},
          "execution_count": 7
        }
      ],
      "source": [
        "dataset.head()"
      ]
    },
    {
      "cell_type": "markdown",
      "id": "b7356d86",
      "metadata": {
        "papermill": {
          "duration": 0.00707,
          "end_time": "2023-03-14T23:52:43.768668",
          "exception": false,
          "start_time": "2023-03-14T23:52:43.761598",
          "status": "completed"
        },
        "tags": [],
        "id": "b7356d86"
      },
      "source": [
        "We require only the sentiment and text fields, so we discard the rest."
      ]
    },
    {
      "cell_type": "code",
      "execution_count": 6,
      "id": "8e590724",
      "metadata": {
        "execution": {
          "iopub.execute_input": "2023-03-14T23:52:43.785305Z",
          "iopub.status.busy": "2023-03-14T23:52:43.784858Z",
          "iopub.status.idle": "2023-03-14T23:52:43.843242Z",
          "shell.execute_reply": "2023-03-14T23:52:43.841895Z"
        },
        "papermill": {
          "duration": 0.069911,
          "end_time": "2023-03-14T23:52:43.845978",
          "exception": false,
          "start_time": "2023-03-14T23:52:43.776067",
          "status": "completed"
        },
        "tags": [],
        "colab": {
          "base_uri": "https://localhost:8080/"
        },
        "id": "8e590724",
        "outputId": "360eccbb-b156-451c-9b99-ae169aba3563"
      },
      "outputs": [
        {
          "output_type": "execute_result",
          "data": {
            "text/plain": [
              "0    800000\n",
              "4    800000\n",
              "Name: sentiment, dtype: int64"
            ]
          },
          "metadata": {},
          "execution_count": 6
        }
      ],
      "source": [
        "dataset = dataset[['sentiment','text']]\n",
        "dataset.sentiment.value_counts()"
      ]
    },
    {
      "cell_type": "code",
      "execution_count": 8,
      "id": "f4c4ffb0",
      "metadata": {
        "execution": {
          "iopub.execute_input": "2023-03-14T23:52:43.863833Z",
          "iopub.status.busy": "2023-03-14T23:52:43.863385Z",
          "iopub.status.idle": "2023-03-14T23:52:43.889096Z",
          "shell.execute_reply": "2023-03-14T23:52:43.887545Z"
        },
        "papermill": {
          "duration": 0.037802,
          "end_time": "2023-03-14T23:52:43.892110",
          "exception": false,
          "start_time": "2023-03-14T23:52:43.854308",
          "status": "completed"
        },
        "tags": [],
        "id": "f4c4ffb0"
      },
      "outputs": [],
      "source": [
        "# Replacing the values to ease understanding.\n",
        "dataset['sentiment'] = dataset['sentiment'].replace(4,1)"
      ]
    },
    {
      "cell_type": "code",
      "execution_count": 9,
      "id": "852ab694",
      "metadata": {
        "execution": {
          "iopub.execute_input": "2023-03-14T23:52:43.909185Z",
          "iopub.status.busy": "2023-03-14T23:52:43.908353Z",
          "iopub.status.idle": "2023-03-14T23:52:44.095273Z",
          "shell.execute_reply": "2023-03-14T23:52:44.094035Z"
        },
        "papermill": {
          "duration": 0.198382,
          "end_time": "2023-03-14T23:52:44.097953",
          "exception": false,
          "start_time": "2023-03-14T23:52:43.899571",
          "status": "completed"
        },
        "tags": [],
        "colab": {
          "base_uri": "https://localhost:8080/",
          "height": 143
        },
        "id": "852ab694",
        "outputId": "50a89e8c-2c19-469d-fdf5-752d6ecb6c1a"
      },
      "outputs": [
        {
          "output_type": "execute_result",
          "data": {
            "text/plain": [
              "             text\n",
              "sentiment        \n",
              "0          800000\n",
              "1          800000"
            ],
            "text/html": [
              "\n",
              "  <div id=\"df-d65e8d32-65b3-4275-99bd-9846665d25f0\">\n",
              "    <div class=\"colab-df-container\">\n",
              "      <div>\n",
              "<style scoped>\n",
              "    .dataframe tbody tr th:only-of-type {\n",
              "        vertical-align: middle;\n",
              "    }\n",
              "\n",
              "    .dataframe tbody tr th {\n",
              "        vertical-align: top;\n",
              "    }\n",
              "\n",
              "    .dataframe thead th {\n",
              "        text-align: right;\n",
              "    }\n",
              "</style>\n",
              "<table border=\"1\" class=\"dataframe\">\n",
              "  <thead>\n",
              "    <tr style=\"text-align: right;\">\n",
              "      <th></th>\n",
              "      <th>text</th>\n",
              "    </tr>\n",
              "    <tr>\n",
              "      <th>sentiment</th>\n",
              "      <th></th>\n",
              "    </tr>\n",
              "  </thead>\n",
              "  <tbody>\n",
              "    <tr>\n",
              "      <th>0</th>\n",
              "      <td>800000</td>\n",
              "    </tr>\n",
              "    <tr>\n",
              "      <th>1</th>\n",
              "      <td>800000</td>\n",
              "    </tr>\n",
              "  </tbody>\n",
              "</table>\n",
              "</div>\n",
              "      <button class=\"colab-df-convert\" onclick=\"convertToInteractive('df-d65e8d32-65b3-4275-99bd-9846665d25f0')\"\n",
              "              title=\"Convert this dataframe to an interactive table.\"\n",
              "              style=\"display:none;\">\n",
              "        \n",
              "  <svg xmlns=\"http://www.w3.org/2000/svg\" height=\"24px\"viewBox=\"0 0 24 24\"\n",
              "       width=\"24px\">\n",
              "    <path d=\"M0 0h24v24H0V0z\" fill=\"none\"/>\n",
              "    <path d=\"M18.56 5.44l.94 2.06.94-2.06 2.06-.94-2.06-.94-.94-2.06-.94 2.06-2.06.94zm-11 1L8.5 8.5l.94-2.06 2.06-.94-2.06-.94L8.5 2.5l-.94 2.06-2.06.94zm10 10l.94 2.06.94-2.06 2.06-.94-2.06-.94-.94-2.06-.94 2.06-2.06.94z\"/><path d=\"M17.41 7.96l-1.37-1.37c-.4-.4-.92-.59-1.43-.59-.52 0-1.04.2-1.43.59L10.3 9.45l-7.72 7.72c-.78.78-.78 2.05 0 2.83L4 21.41c.39.39.9.59 1.41.59.51 0 1.02-.2 1.41-.59l7.78-7.78 2.81-2.81c.8-.78.8-2.07 0-2.86zM5.41 20L4 18.59l7.72-7.72 1.47 1.35L5.41 20z\"/>\n",
              "  </svg>\n",
              "      </button>\n",
              "      \n",
              "  <style>\n",
              "    .colab-df-container {\n",
              "      display:flex;\n",
              "      flex-wrap:wrap;\n",
              "      gap: 12px;\n",
              "    }\n",
              "\n",
              "    .colab-df-convert {\n",
              "      background-color: #E8F0FE;\n",
              "      border: none;\n",
              "      border-radius: 50%;\n",
              "      cursor: pointer;\n",
              "      display: none;\n",
              "      fill: #1967D2;\n",
              "      height: 32px;\n",
              "      padding: 0 0 0 0;\n",
              "      width: 32px;\n",
              "    }\n",
              "\n",
              "    .colab-df-convert:hover {\n",
              "      background-color: #E2EBFA;\n",
              "      box-shadow: 0px 1px 2px rgba(60, 64, 67, 0.3), 0px 1px 3px 1px rgba(60, 64, 67, 0.15);\n",
              "      fill: #174EA6;\n",
              "    }\n",
              "\n",
              "    [theme=dark] .colab-df-convert {\n",
              "      background-color: #3B4455;\n",
              "      fill: #D2E3FC;\n",
              "    }\n",
              "\n",
              "    [theme=dark] .colab-df-convert:hover {\n",
              "      background-color: #434B5C;\n",
              "      box-shadow: 0px 1px 3px 1px rgba(0, 0, 0, 0.15);\n",
              "      filter: drop-shadow(0px 1px 2px rgba(0, 0, 0, 0.3));\n",
              "      fill: #FFFFFF;\n",
              "    }\n",
              "  </style>\n",
              "\n",
              "      <script>\n",
              "        const buttonEl =\n",
              "          document.querySelector('#df-d65e8d32-65b3-4275-99bd-9846665d25f0 button.colab-df-convert');\n",
              "        buttonEl.style.display =\n",
              "          google.colab.kernel.accessAllowed ? 'block' : 'none';\n",
              "\n",
              "        async function convertToInteractive(key) {\n",
              "          const element = document.querySelector('#df-d65e8d32-65b3-4275-99bd-9846665d25f0');\n",
              "          const dataTable =\n",
              "            await google.colab.kernel.invokeFunction('convertToInteractive',\n",
              "                                                     [key], {});\n",
              "          if (!dataTable) return;\n",
              "\n",
              "          const docLinkHtml = 'Like what you see? Visit the ' +\n",
              "            '<a target=\"_blank\" href=https://colab.research.google.com/notebooks/data_table.ipynb>data table notebook</a>'\n",
              "            + ' to learn more about interactive tables.';\n",
              "          element.innerHTML = '';\n",
              "          dataTable['output_type'] = 'display_data';\n",
              "          await google.colab.output.renderOutput(dataTable, element);\n",
              "          const docLink = document.createElement('div');\n",
              "          docLink.innerHTML = docLinkHtml;\n",
              "          element.appendChild(docLink);\n",
              "        }\n",
              "      </script>\n",
              "    </div>\n",
              "  </div>\n",
              "  "
            ]
          },
          "metadata": {},
          "execution_count": 9
        }
      ],
      "source": [
        "dataset.groupby('sentiment').count()"
      ]
    },
    {
      "cell_type": "code",
      "execution_count": 10,
      "id": "34eaae5d",
      "metadata": {
        "execution": {
          "iopub.execute_input": "2023-03-14T23:52:44.116081Z",
          "iopub.status.busy": "2023-03-14T23:52:44.115668Z",
          "iopub.status.idle": "2023-03-14T23:52:45.016355Z",
          "shell.execute_reply": "2023-03-14T23:52:45.015024Z"
        },
        "papermill": {
          "duration": 0.912569,
          "end_time": "2023-03-14T23:52:45.019220",
          "exception": false,
          "start_time": "2023-03-14T23:52:44.106651",
          "status": "completed"
        },
        "tags": [],
        "colab": {
          "base_uri": "https://localhost:8080/",
          "height": 472
        },
        "id": "34eaae5d",
        "outputId": "353dc050-a51b-4ee9-de98-1540ac6ce22d"
      },
      "outputs": [
        {
          "output_type": "display_data",
          "data": {
            "text/plain": [
              "<Figure size 640x480 with 1 Axes>"
            ],
            "image/png": "[encoded data removed]"
          },
          "metadata": {}
        }
      ],
      "source": [
        "# Plotting the distribution for dataset.\n",
        "ax = dataset.groupby('sentiment').count().plot(kind='bar', title='Distribution of data',\n",
        "                                               legend=False)\n",
        "ax.set_xticklabels(['Negative','Positive'], rotation=0)\n",
        "\n",
        "# Storing data in lists.\n",
        "text, sentiment = list(dataset['text']), list(dataset['sentiment'])"
      ]
    },
    {
      "cell_type": "code",
      "execution_count": 11,
      "id": "3b162d9f",
      "metadata": {
        "execution": {
          "iopub.execute_input": "2023-03-14T23:52:45.037388Z",
          "iopub.status.busy": "2023-03-14T23:52:45.036978Z",
          "iopub.status.idle": "2023-03-14T23:52:45.049965Z",
          "shell.execute_reply": "2023-03-14T23:52:45.048706Z"
        },
        "papermill": {
          "duration": 0.025149,
          "end_time": "2023-03-14T23:52:45.052518",
          "exception": false,
          "start_time": "2023-03-14T23:52:45.027369",
          "status": "completed"
        },
        "tags": [],
        "id": "3b162d9f"
      },
      "outputs": [],
      "source": [
        "# Defining dictionary containing all emojis with their meanings.\n",
        "emojis = {':)': 'smile', ':-)': 'smile', ';d': 'wink', ':-E': 'vampire', ':(': 'sad', \n",
        "          ':-(': 'sad', ':-<': 'sad', ':P': 'raspberry', ':O': 'surprised',\n",
        "          ':-@': 'shocked', ':@': 'shocked',':-$': 'confused', ':\\\\': 'annoyed', \n",
        "          ':#': 'mute', ':X': 'mute', ':^)': 'smile', ':-&': 'confused', '$_$': 'greedy',\n",
        "          '@@': 'eyeroll', ':-!': 'confused', ':-D': 'smile', ':-0': 'yell', 'O.o': 'confused',\n",
        "          '<(-_-)>': 'robot', 'd[-_-]b': 'dj', \":'-)\": 'sadsmile', ';)': 'wink', \n",
        "          ';-)': 'wink', 'O:-)': 'angel','O*-)': 'angel','(:-D': 'gossip', '=^.^=': 'cat'}\n",
        "\n",
        "## Defining set containing all stopwords in english.\n",
        "stopwordlist = ['a', 'about', 'above', 'after', 'again', 'ain', 'all', 'am', 'an',\n",
        "             'and','any','are', 'as', 'at', 'be', 'because', 'been', 'before',\n",
        "             'being', 'below', 'between','both', 'by', 'can', 'd', 'did', 'do',\n",
        "             'does', 'doing', 'down', 'during', 'each','few', 'for', 'from', \n",
        "             'further', 'had', 'has', 'have', 'having', 'he', 'her', 'here',\n",
        "             'hers', 'herself', 'him', 'himself', 'his', 'how', 'i', 'if', 'in',\n",
        "             'into','is', 'it', 'its', 'itself', 'just', 'll', 'm', 'ma',\n",
        "             'me', 'more', 'most','my', 'myself', 'now', 'o', 'of', 'on', 'once',\n",
        "             'only', 'or', 'other', 'our', 'ours','ourselves', 'out', 'own', 're',\n",
        "             's', 'same', 'she', \"shes\", 'should', \"shouldve\",'so', 'some', 'such',\n",
        "             't', 'than', 'that', \"thatll\", 'the', 'their', 'theirs', 'them',\n",
        "             'themselves', 'then', 'there', 'these', 'they', 'this', 'those', \n",
        "             'through', 'to', 'too','under', 'until', 'up', 've', 'very', 'was',\n",
        "             'we', 'were', 'what', 'when', 'where','which','while', 'who', 'whom',\n",
        "             'why', 'will', 'with', 'won', 'y', 'you', \"youd\",\"youll\", \"youre\",\n",
        "             \"youve\", 'your', 'yours', 'yourself', 'yourselves']"
      ]
    },
    {
      "cell_type": "code",
      "execution_count": 12,
      "id": "c1a4892d",
      "metadata": {
        "execution": {
          "iopub.execute_input": "2023-03-14T23:52:45.071312Z",
          "iopub.status.busy": "2023-03-14T23:52:45.070043Z",
          "iopub.status.idle": "2023-03-14T23:52:45.080718Z",
          "shell.execute_reply": "2023-03-14T23:52:45.079415Z"
        },
        "papermill": {
          "duration": 0.02299,
          "end_time": "2023-03-14T23:52:45.083627",
          "exception": false,
          "start_time": "2023-03-14T23:52:45.060637",
          "status": "completed"
        },
        "tags": [],
        "id": "c1a4892d"
      },
      "outputs": [],
      "source": [
        "def preprocess(textdata):\n",
        "    processedText = []\n",
        "    \n",
        "    # Create Lemmatizer and Stemmer.\n",
        "    wordLemm = WordNetLemmatizer()\n",
        "    \n",
        "    # Defining regex patterns.\n",
        "    urlPattern        = r\"((http://)[^ ]*|(https://)[^ ]*|( www\\.)[^ ]*)\"\n",
        "    userPattern       = '@[^\\s]+'\n",
        "    alphaPattern      = \"[^a-zA-Z0-9]\"\n",
        "    sequencePattern   = r\"(.)\\1\\1+\"\n",
        "    seqReplacePattern = r\"\\1\\1\"\n",
        "    \n",
        "    for tweet in textdata:\n",
        "        tweet = tweet.lower()\n",
        "        \n",
        "        # Replace all URls with 'URL'\n",
        "        tweet = re.sub(urlPattern,' URL',tweet)\n",
        "        # Replace all emojis.\n",
        "        for emoji in emojis.keys():\n",
        "            tweet = tweet.replace(emoji, \"EMOJI\" + emojis[emoji])        \n",
        "        # Replace @USERNAME to 'USER'.\n",
        "        tweet = re.sub(userPattern,' USER', tweet)        \n",
        "        # Replace all non alphabets.\n",
        "        tweet = re.sub(alphaPattern, \" \", tweet)\n",
        "        # Replace 3 or more consecutive letters by 2 letter.\n",
        "        tweet = re.sub(sequencePattern, seqReplacePattern, tweet)\n",
        "\n",
        "        tweetwords = ''\n",
        "        for word in tweet.split():\n",
        "            # Checking if the word is a stopword.\n",
        "            #if word not in stopwordlist:\n",
        "            tweetwords += (word+' ')\n",
        "            \n",
        "        processedText.append(tweetwords)\n",
        "        \n",
        "    return processedText"
      ]
    },
    {
      "cell_type": "code",
      "execution_count": 13,
      "id": "3bd8f320",
      "metadata": {
        "execution": {
          "iopub.execute_input": "2023-03-14T23:52:45.102979Z",
          "iopub.status.busy": "2023-03-14T23:52:45.101662Z",
          "iopub.status.idle": "2023-03-14T23:52:45.107748Z",
          "shell.execute_reply": "2023-03-14T23:52:45.106498Z"
        },
        "papermill": {
          "duration": 0.018774,
          "end_time": "2023-03-14T23:52:45.110425",
          "exception": false,
          "start_time": "2023-03-14T23:52:45.091651",
          "status": "completed"
        },
        "tags": [],
        "id": "3bd8f320"
      },
      "outputs": [],
      "source": [
        "from nltk.corpus import wordnet\n",
        "# nltk\n",
        "from nltk.stem import WordNetLemmatizer"
      ]
    },
    {
      "cell_type": "code",
      "execution_count": 14,
      "id": "86bff8e2",
      "metadata": {
        "execution": {
          "iopub.execute_input": "2023-03-14T23:52:45.128496Z",
          "iopub.status.busy": "2023-03-14T23:52:45.128030Z",
          "iopub.status.idle": "2023-03-14T23:53:41.572216Z",
          "shell.execute_reply": "2023-03-14T23:53:41.570887Z"
        },
        "papermill": {
          "duration": 56.463507,
          "end_time": "2023-03-14T23:53:41.582012",
          "exception": false,
          "start_time": "2023-03-14T23:52:45.118505",
          "status": "completed"
        },
        "tags": [],
        "colab": {
          "base_uri": "https://localhost:8080/"
        },
        "id": "86bff8e2",
        "outputId": "466447d3-32e1-40b6-f7f7-9a221dc2c925"
      },
      "outputs": [
        {
          "output_type": "stream",
          "name": "stdout",
          "text": [
            "Text Preprocessing complete.\n",
            "Time Taken: 35 seconds\n"
          ]
        }
      ],
      "source": [
        "import time\n",
        "t = time.time()\n",
        "processedtext = preprocess(text)\n",
        "print(f'Text Preprocessing complete.')\n",
        "print(f'Time Taken: {round(time.time()-t)} seconds')"
      ]
    },
    {
      "cell_type": "code",
      "execution_count": 15,
      "id": "b366b9d0",
      "metadata": {
        "execution": {
          "iopub.execute_input": "2023-03-14T23:53:41.600775Z",
          "iopub.status.busy": "2023-03-14T23:53:41.599721Z",
          "iopub.status.idle": "2023-03-14T23:54:07.945810Z",
          "shell.execute_reply": "2023-03-14T23:54:07.943949Z"
        },
        "papermill": {
          "duration": 26.37758,
          "end_time": "2023-03-14T23:54:07.967685",
          "exception": false,
          "start_time": "2023-03-14T23:53:41.590105",
          "status": "completed"
        },
        "tags": [],
        "id": "b366b9d0"
      },
      "outputs": [],
      "source": [
        "# data_neg = processedtext[:800000]\n",
        "# plt.figure(figsize = (20,20))\n",
        "# wc = WordCloud(max_words = 1000 , width = 1600 , height = 800,\n",
        "#                collocations=False).generate(\" \".join(data_neg))\n",
        "# plt.imshow(wc)"
      ]
    },
    {
      "cell_type": "code",
      "execution_count": 16,
      "id": "542fcdf2",
      "metadata": {
        "execution": {
          "iopub.execute_input": "2023-03-14T23:54:08.025532Z",
          "iopub.status.busy": "2023-03-14T23:54:08.024847Z",
          "iopub.status.idle": "2023-03-14T23:54:33.168339Z",
          "shell.execute_reply": "2023-03-14T23:54:33.167165Z"
        },
        "papermill": {
          "duration": 25.19059,
          "end_time": "2023-03-14T23:54:33.185774",
          "exception": false,
          "start_time": "2023-03-14T23:54:07.995184",
          "status": "completed"
        },
        "tags": [],
        "id": "542fcdf2"
      },
      "outputs": [],
      "source": [
        "# data_pos = processedtext[800000:]\n",
        "# wc = WordCloud(max_words = 1000 , width = 1600 , height = 800,\n",
        "#               collocations=False).generate(\" \".join(data_pos))\n",
        "# plt.figure(figsize = (20,20))\n",
        "# plt.imshow(wc)"
      ]
    },
    {
      "cell_type": "code",
      "execution_count": 17,
      "id": "55f320a1",
      "metadata": {
        "execution": {
          "iopub.execute_input": "2023-03-14T23:54:33.281914Z",
          "iopub.status.busy": "2023-03-14T23:54:33.281280Z",
          "iopub.status.idle": "2023-03-14T23:54:34.227363Z",
          "shell.execute_reply": "2023-03-14T23:54:34.225740Z"
        },
        "papermill": {
          "duration": 0.997877,
          "end_time": "2023-03-14T23:54:34.230164",
          "exception": false,
          "start_time": "2023-03-14T23:54:33.232287",
          "status": "completed"
        },
        "tags": [],
        "colab": {
          "base_uri": "https://localhost:8080/"
        },
        "id": "55f320a1",
        "outputId": "d89a1006-8691-44e0-b453-92db438dc36c"
      },
      "outputs": [
        {
          "output_type": "stream",
          "name": "stdout",
          "text": [
            "Data Split done.\n"
          ]
        }
      ],
      "source": [
        "#Split the data\n",
        "X_train, X_test, y_train, y_test = train_test_split(processedtext, sentiment,\n",
        "                                                    test_size = 0.05, random_state = 0)\n",
        "print(f'Data Split done.')"
      ]
    },
    {
      "cell_type": "code",
      "execution_count": 18,
      "id": "39a605e2",
      "metadata": {
        "execution": {
          "iopub.execute_input": "2023-03-14T23:54:34.322936Z",
          "iopub.status.busy": "2023-03-14T23:54:34.322514Z",
          "iopub.status.idle": "2023-03-14T23:55:46.467280Z",
          "shell.execute_reply": "2023-03-14T23:55:46.465194Z"
        },
        "papermill": {
          "duration": 72.195926,
          "end_time": "2023-03-14T23:55:46.470334",
          "exception": false,
          "start_time": "2023-03-14T23:54:34.274408",
          "status": "completed"
        },
        "tags": [],
        "colab": {
          "base_uri": "https://localhost:8080/"
        },
        "id": "39a605e2",
        "outputId": "1bd62f33-403c-4515-f554-584afb25fdb6"
      },
      "outputs": [
        {
          "output_type": "stream",
          "name": "stdout",
          "text": [
            "Vectoriser fitted.\n",
            "No. of feature_words:  500000\n"
          ]
        }
      ],
      "source": [
        "#TF-IDF indicates what the importance of the word is in order to understand the document or dataset\n",
        "vectoriser = TfidfVectorizer(ngram_range=(1,2), max_features=500000)\n",
        "vectoriser.fit(X_train)\n",
        "print(f'Vectoriser fitted.')\n",
        "print('No. of feature_words: ', len(vectoriser.get_feature_names_out()))"
      ]
    },
    {
      "cell_type": "code",
      "execution_count": 19,
      "id": "9450990b",
      "metadata": {
        "execution": {
          "iopub.execute_input": "2023-03-14T23:55:46.564913Z",
          "iopub.status.busy": "2023-03-14T23:55:46.564413Z",
          "iopub.status.idle": "2023-03-14T23:56:43.824737Z",
          "shell.execute_reply": "2023-03-14T23:56:43.823382Z"
        },
        "papermill": {
          "duration": 57.35908,
          "end_time": "2023-03-14T23:56:43.874584",
          "exception": false,
          "start_time": "2023-03-14T23:55:46.515504",
          "status": "completed"
        },
        "tags": [],
        "colab": {
          "base_uri": "https://localhost:8080/"
        },
        "id": "9450990b",
        "outputId": "76cf9ef4-f863-4d6d-86d3-a6828d1b6f82"
      },
      "outputs": [
        {
          "output_type": "stream",
          "name": "stdout",
          "text": [
            "Data Transformed.\n"
          ]
        }
      ],
      "source": [
        "#Transforming the dataframe\n",
        "X_train = vectoriser.transform(X_train)\n",
        "X_test  = vectoriser.transform(X_test)\n",
        "print(f'Data Transformed.')"
      ]
    },
    {
      "cell_type": "code",
      "execution_count": 20,
      "id": "cea4b430",
      "metadata": {
        "execution": {
          "iopub.execute_input": "2023-03-14T23:56:43.968427Z",
          "iopub.status.busy": "2023-03-14T23:56:43.967100Z",
          "iopub.status.idle": "2023-03-14T23:56:43.977972Z",
          "shell.execute_reply": "2023-03-14T23:56:43.976693Z"
        },
        "papermill": {
          "duration": 0.059845,
          "end_time": "2023-03-14T23:56:43.980762",
          "exception": false,
          "start_time": "2023-03-14T23:56:43.920917",
          "status": "completed"
        },
        "tags": [],
        "id": "cea4b430"
      },
      "outputs": [],
      "source": [
        "#Creating and evaluate the models\n",
        "def model_Evaluate(model):\n",
        "    \n",
        "    # Predict values for Test dataset\n",
        "    y_pred = model.predict(X_test)\n",
        "\n",
        "    # Print the evaluation metrics for the dataset.\n",
        "    print(classification_report(y_test, y_pred))\n",
        "    \n",
        "    # Compute and plot the Confusion matrix\n",
        "    cf_matrix = confusion_matrix(y_test, y_pred)\n",
        "\n",
        "    categories  = ['Negative','Positive']\n",
        "    group_names = ['True Neg','False Pos', 'False Neg','True Pos']\n",
        "    group_percentages = ['{0:.2%}'.format(value) for value in cf_matrix.flatten() / np.sum(cf_matrix)]\n",
        "\n",
        "    labels = [f'{v1}\\n{v2}' for v1, v2 in zip(group_names,group_percentages)]\n",
        "    labels = np.asarray(labels).reshape(2,2)\n",
        "\n",
        "    sns.heatmap(cf_matrix, annot = labels, cmap = 'Blues',fmt = '',\n",
        "                xticklabels = categories, yticklabels = categories)\n",
        "\n",
        "    plt.xlabel(\"Predicted values\", fontdict = {'size':14}, labelpad = 10)\n",
        "    plt.ylabel(\"Actual values\"   , fontdict = {'size':14}, labelpad = 10)\n",
        "    plt.title (\"Confusion Matrix\", fontdict = {'size':18}, pad = 20)"
      ]
    },
    {
      "cell_type": "markdown",
      "id": "7ad2f0c7",
      "metadata": {
        "papermill": {
          "duration": 0.043965,
          "end_time": "2023-03-14T23:56:44.071004",
          "exception": false,
          "start_time": "2023-03-14T23:56:44.027039",
          "status": "completed"
        },
        "tags": [],
        "id": "7ad2f0c7"
      },
      "source": [
        "BernoulliNB model"
      ]
    },
    {
      "cell_type": "code",
      "execution_count": 21,
      "id": "b09186a3",
      "metadata": {
        "execution": {
          "iopub.execute_input": "2023-03-14T23:56:44.162479Z",
          "iopub.status.busy": "2023-03-14T23:56:44.161984Z",
          "iopub.status.idle": "2023-03-14T23:56:45.931843Z",
          "shell.execute_reply": "2023-03-14T23:56:45.930560Z"
        },
        "papermill": {
          "duration": 1.819519,
          "end_time": "2023-03-14T23:56:45.934899",
          "exception": false,
          "start_time": "2023-03-14T23:56:44.115380",
          "status": "completed"
        },
        "tags": [],
        "colab": {
          "base_uri": "https://localhost:8080/",
          "height": 665
        },
        "id": "b09186a3",
        "outputId": "07f30faf-8bee-4743-859c-667c2eb94028"
      },
      "outputs": [
        {
          "output_type": "stream",
          "name": "stdout",
          "text": [
            "              precision    recall  f1-score   support\n",
            "\n",
            "           0       0.81      0.79      0.80     39989\n",
            "           1       0.80      0.81      0.80     40011\n",
            "\n",
            "    accuracy                           0.80     80000\n",
            "   macro avg       0.80      0.80      0.80     80000\n",
            "weighted avg       0.80      0.80      0.80     80000\n",
            "\n"
          ]
        },
        {
          "output_type": "display_data",
          "data": {
            "text/plain": [
              "<Figure size 640x480 with 2 Axes>"
            ],
            "image/png": "[encoded data removed]"
          },
          "metadata": {}
        }
      ],
      "source": [
        "BNBmodel = BernoulliNB(alpha = 2)\n",
        "BNBmodel.fit(X_train, y_train)\n",
        "model_Evaluate(BNBmodel)"
      ]
    },
    {
      "cell_type": "code",
      "source": [],
      "metadata": {
        "id": "h9sJqoKPRlH6"
      },
      "id": "h9sJqoKPRlH6",
      "execution_count": null,
      "outputs": []
    },
    {
      "cell_type": "markdown",
      "id": "16e36374",
      "metadata": {
        "papermill": {
          "duration": 0.046231,
          "end_time": "2023-03-14T23:57:30.373328",
          "exception": false,
          "start_time": "2023-03-14T23:57:30.327097",
          "status": "completed"
        },
        "tags": [],
        "id": "16e36374"
      },
      "source": [
        "Logistic Regression Model"
      ]
    },
    {
      "cell_type": "code",
      "execution_count": 28,
      "id": "d1aaa772",
      "metadata": {
        "execution": {
          "iopub.execute_input": "2023-03-14T23:57:30.471650Z",
          "iopub.status.busy": "2023-03-14T23:57:30.470677Z",
          "iopub.status.idle": "2023-03-15T00:03:29.162957Z",
          "shell.execute_reply": "2023-03-15T00:03:29.161360Z"
        },
        "papermill": {
          "duration": 358.746742,
          "end_time": "2023-03-15T00:03:29.166425",
          "exception": false,
          "start_time": "2023-03-14T23:57:30.419683",
          "status": "completed"
        },
        "tags": [],
        "colab": {
          "base_uri": "https://localhost:8080/",
          "height": 665
        },
        "id": "d1aaa772",
        "outputId": "f98e4ec7-feaa-4865-b7b1-364e8a5411dd"
      },
      "outputs": [
        {
          "output_type": "stream",
          "name": "stdout",
          "text": [
            "              precision    recall  f1-score   support\n",
            "\n",
            "           0       0.83      0.82      0.83     39989\n",
            "           1       0.82      0.84      0.83     40011\n",
            "\n",
            "    accuracy                           0.83     80000\n",
            "   macro avg       0.83      0.83      0.83     80000\n",
            "weighted avg       0.83      0.83      0.83     80000\n",
            "\n"
          ]
        },
        {
          "output_type": "display_data",
          "data": {
            "text/plain": [
              "<Figure size 640x480 with 2 Axes>"
            ],
            "image/png": "[encoded data removed]"
          },
          "metadata": {}
        }
      ],
      "source": [
        "LRmodel = LogisticRegression(C = 2, max_iter = 1000, n_jobs=-1)\n",
        "history=LRmodel.fit(X_train, y_train)\n",
        "model_Evaluate(LRmodel)"
      ]
    },
    {
      "cell_type": "markdown",
      "id": "6682e3a7",
      "metadata": {
        "papermill": {
          "duration": 0.048284,
          "end_time": "2023-03-15T00:03:29.264937",
          "exception": false,
          "start_time": "2023-03-15T00:03:29.216653",
          "status": "completed"
        },
        "tags": [],
        "id": "6682e3a7"
      },
      "source": [
        "Saving the models for using"
      ]
    },
    {
      "cell_type": "code",
      "execution_count": 27,
      "id": "eb4c29a6",
      "metadata": {
        "execution": {
          "iopub.execute_input": "2023-03-15T00:03:29.363490Z",
          "iopub.status.busy": "2023-03-15T00:03:29.363010Z",
          "iopub.status.idle": "2023-03-15T00:03:33.560426Z",
          "shell.execute_reply": "2023-03-15T00:03:33.558890Z"
        },
        "papermill": {
          "duration": 4.251085,
          "end_time": "2023-03-15T00:03:33.563888",
          "exception": false,
          "start_time": "2023-03-15T00:03:29.312803",
          "status": "completed"
        },
        "tags": [],
        "id": "eb4c29a6"
      },
      "outputs": [],
      "source": [
        "file = open('vectoriser-ngram-(1,2).pickle','wb')\n",
        "pickle.dump(vectoriser, file)\n",
        "file.close()\n",
        "\n",
        "file = open('Sentiment-LR.pickle','wb')\n",
        "pickle.dump(LRmodel, file)\n",
        "file.close()\n",
        "\n",
        "file = open('Sentiment-BNB.pickle','wb')\n",
        "pickle.dump(BNBmodel, file)\n",
        "file.close()"
      ]
    },
    {
      "cell_type": "code",
      "execution_count": 26,
      "id": "b28740ad",
      "metadata": {
        "execution": {
          "iopub.execute_input": "2023-03-15T00:03:33.662786Z",
          "iopub.status.busy": "2023-03-15T00:03:33.661724Z",
          "iopub.status.idle": "2023-03-15T00:03:33.778989Z",
          "shell.execute_reply": "2023-03-15T00:03:33.777348Z"
        },
        "papermill": {
          "duration": 0.170698,
          "end_time": "2023-03-15T00:03:33.782838",
          "exception": false,
          "start_time": "2023-03-15T00:03:33.612140",
          "status": "completed"
        },
        "tags": [],
        "colab": {
          "base_uri": "https://localhost:8080/"
        },
        "id": "b28740ad",
        "outputId": "ca13d68b-64be-4d51-d195-597f6aa9156e"
      },
      "outputs": [
        {
          "output_type": "stream",
          "name": "stdout",
          "text": [
            "              text sentiment\n",
            "0   I hate twitter  Negative\n",
            "1    i am sleeping  Positive\n",
            "2  i go for a walk  Positive\n"
          ]
        }
      ],
      "source": [
        "def load_models():\n",
        "\n",
        "    \n",
        "    # Load the vectoriser.\n",
        "    file = open('vectoriser-ngram-(1,2).pickle', 'rb')\n",
        "    vectoriser = pickle.load(file)\n",
        "    file.close()\n",
        "    # Load the LR Model.\n",
        "    file = open('Sentiment-LRv1.pickle', 'rb')\n",
        "    LRmodel = pickle.load(file)\n",
        "    file.close()\n",
        "    \n",
        "    return vectoriser, LRmodel\n",
        "\n",
        "def predict(vectoriser, model, text):\n",
        "    # Predict the sentiment\n",
        "    textdata = vectoriser.transform(preprocess(text))\n",
        "    sentiment = model.predict(textdata)\n",
        "    \n",
        "    # Make a list of text with sentiment.\n",
        "    data = []\n",
        "    for text, pred in zip(text, sentiment):\n",
        "        data.append((text,pred))\n",
        "        \n",
        "    # Convert the list into a Pandas DataFrame.\n",
        "    df = pd.DataFrame(data, columns = ['text','sentiment'])\n",
        "    df = df.replace([0,1], [\"Negative\",\"Positive\"])\n",
        "    return df\n",
        "\n",
        "if __name__==\"__main__\":\n",
        "    # Loading the models.\n",
        "    #vectoriser, LRmodel = load_models()\n",
        "    \n",
        "    # Text to classify should be in a list.\n",
        "    text = [\"I hate twitter\"\n",
        "    ,\"i am sleeping\",\"i go for a walk\"]\n",
        "    \n",
        "    df = predict(vectoriser, LRmodel, text)\n",
        "    print(df.head())"
      ]
    },
    {
      "cell_type": "code",
      "source": [],
      "metadata": {
        "id": "bCEq7dM1uRSd"
      },
      "id": "bCEq7dM1uRSd",
      "execution_count": null,
      "outputs": []
    }
  ],
  "metadata": {
    "kernelspec": {
      "display_name": "Python 3",
      "language": "python",
      "name": "python3"
    },
    "language_info": {
      "codemirror_mode": {
        "name": "ipython",
        "version": 3
      },
      "file_extension": ".py",
      "mimetype": "text/x-python",
      "name": "python",
      "nbconvert_exporter": "python",
      "pygments_lexer": "ipython3",
      "version": "3.7.12"
    },
    "papermill": {
      "default_parameters": {},
      "duration": 674.192649,
      "end_time": "2023-03-15T00:03:36.556384",
      "environment_variables": {},
      "exception": null,
      "input_path": "__notebook__.ipynb",
      "output_path": "__notebook__.ipynb",
      "parameters": {},
      "start_time": "2023-03-14T23:52:22.363735",
      "version": "2.4.0"
    },
    "colab": {
      "provenance": []
    }
  },
  "nbformat": 4,
  "nbformat_minor": 5
}